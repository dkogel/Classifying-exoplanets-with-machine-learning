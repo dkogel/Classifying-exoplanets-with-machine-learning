{
 "cells": [
  {
   "cell_type": "code",
   "execution_count": 1,
   "metadata": {},
   "outputs": [
    {
     "name": "stdout",
     "output_type": "stream",
     "text": [
      "Requirement already satisfied: sklearn in c:\\users\\dkoge\\anaconda3\\envs\\pythondata38\\lib\\site-packages (0.0)\n",
      "Requirement already satisfied: scikit-learn in c:\\users\\dkoge\\anaconda3\\envs\\pythondata38\\lib\\site-packages (from sklearn) (0.24.1)\n",
      "Requirement already satisfied: joblib>=0.11 in c:\\users\\dkoge\\anaconda3\\envs\\pythondata38\\lib\\site-packages (from scikit-learn->sklearn) (1.0.1)\n",
      "Requirement already satisfied: scipy>=0.19.1 in c:\\users\\dkoge\\anaconda3\\envs\\pythondata38\\lib\\site-packages (from scikit-learn->sklearn) (1.6.2)\n",
      "Requirement already satisfied: numpy>=1.13.3 in c:\\users\\dkoge\\anaconda3\\envs\\pythondata38\\lib\\site-packages (from scikit-learn->sklearn) (1.20.1)\n",
      "Requirement already satisfied: threadpoolctl>=2.0.0 in c:\\users\\dkoge\\anaconda3\\envs\\pythondata38\\lib\\site-packages (from scikit-learn->sklearn) (2.1.0)\n"
     ]
    }
   ],
   "source": [
    "# Update sklearn to prevent version mismatches\n",
    "!pip install sklearn --upgrade"
   ]
  },
  {
   "cell_type": "code",
   "execution_count": 2,
   "metadata": {},
   "outputs": [
    {
     "name": "stdout",
     "output_type": "stream",
     "text": [
      "Requirement already satisfied: joblib in c:\\users\\dkoge\\anaconda3\\envs\\pythondata38\\lib\\site-packages (1.0.1)\n"
     ]
    }
   ],
   "source": [
    "# install joblib to save model \n",
    "# Restart your kernel after installing \n",
    "!pip install joblib"
   ]
  },
  {
   "cell_type": "code",
   "execution_count": 3,
   "metadata": {},
   "outputs": [],
   "source": [
    "import pandas as pd\n",
    "\n",
    "from sklearn.model_selection import train_test_split\n",
    "from sklearn.preprocessing import LabelEncoder, MinMaxScaler\n",
    "import numpy as np\n",
    "from sklearn.model_selection import GridSearchCV\n",
    "from tensorflow.keras.utils import to_categorical\n",
    "from tensorflow.keras.models import Sequential\n",
    "from tensorflow.keras.layers import Dense\n",
    "from tensorflow.keras.wrappers.scikit_learn import KerasClassifier\n"
   ]
  },
  {
   "cell_type": "markdown",
   "metadata": {},
   "source": [
    "# Read the CSV and Perform Basic Data Cleaning"
   ]
  },
  {
   "cell_type": "code",
   "execution_count": 4,
   "metadata": {},
   "outputs": [
    {
     "data": {
      "text/html": [
       "<div>\n",
       "<style scoped>\n",
       "    .dataframe tbody tr th:only-of-type {\n",
       "        vertical-align: middle;\n",
       "    }\n",
       "\n",
       "    .dataframe tbody tr th {\n",
       "        vertical-align: top;\n",
       "    }\n",
       "\n",
       "    .dataframe thead th {\n",
       "        text-align: right;\n",
       "    }\n",
       "</style>\n",
       "<table border=\"1\" class=\"dataframe\">\n",
       "  <thead>\n",
       "    <tr style=\"text-align: right;\">\n",
       "      <th></th>\n",
       "      <th>koi_disposition</th>\n",
       "      <th>koi_fpflag_nt</th>\n",
       "      <th>koi_fpflag_ss</th>\n",
       "      <th>koi_fpflag_co</th>\n",
       "      <th>koi_fpflag_ec</th>\n",
       "      <th>koi_period</th>\n",
       "      <th>koi_period_err1</th>\n",
       "      <th>koi_period_err2</th>\n",
       "      <th>koi_time0bk</th>\n",
       "      <th>koi_time0bk_err1</th>\n",
       "      <th>...</th>\n",
       "      <th>koi_steff_err2</th>\n",
       "      <th>koi_slogg</th>\n",
       "      <th>koi_slogg_err1</th>\n",
       "      <th>koi_slogg_err2</th>\n",
       "      <th>koi_srad</th>\n",
       "      <th>koi_srad_err1</th>\n",
       "      <th>koi_srad_err2</th>\n",
       "      <th>ra</th>\n",
       "      <th>dec</th>\n",
       "      <th>koi_kepmag</th>\n",
       "    </tr>\n",
       "  </thead>\n",
       "  <tbody>\n",
       "    <tr>\n",
       "      <th>0</th>\n",
       "      <td>CONFIRMED</td>\n",
       "      <td>0</td>\n",
       "      <td>0</td>\n",
       "      <td>0</td>\n",
       "      <td>0</td>\n",
       "      <td>54.418383</td>\n",
       "      <td>2.479000e-04</td>\n",
       "      <td>-2.479000e-04</td>\n",
       "      <td>162.513840</td>\n",
       "      <td>0.003520</td>\n",
       "      <td>...</td>\n",
       "      <td>-81</td>\n",
       "      <td>4.467</td>\n",
       "      <td>0.064</td>\n",
       "      <td>-0.096</td>\n",
       "      <td>0.927</td>\n",
       "      <td>0.105</td>\n",
       "      <td>-0.061</td>\n",
       "      <td>291.93423</td>\n",
       "      <td>48.141651</td>\n",
       "      <td>15.347</td>\n",
       "    </tr>\n",
       "    <tr>\n",
       "      <th>1</th>\n",
       "      <td>FALSE POSITIVE</td>\n",
       "      <td>0</td>\n",
       "      <td>1</td>\n",
       "      <td>0</td>\n",
       "      <td>0</td>\n",
       "      <td>19.899140</td>\n",
       "      <td>1.490000e-05</td>\n",
       "      <td>-1.490000e-05</td>\n",
       "      <td>175.850252</td>\n",
       "      <td>0.000581</td>\n",
       "      <td>...</td>\n",
       "      <td>-176</td>\n",
       "      <td>4.544</td>\n",
       "      <td>0.044</td>\n",
       "      <td>-0.176</td>\n",
       "      <td>0.868</td>\n",
       "      <td>0.233</td>\n",
       "      <td>-0.078</td>\n",
       "      <td>297.00482</td>\n",
       "      <td>48.134129</td>\n",
       "      <td>15.436</td>\n",
       "    </tr>\n",
       "    <tr>\n",
       "      <th>2</th>\n",
       "      <td>FALSE POSITIVE</td>\n",
       "      <td>0</td>\n",
       "      <td>1</td>\n",
       "      <td>0</td>\n",
       "      <td>0</td>\n",
       "      <td>1.736952</td>\n",
       "      <td>2.630000e-07</td>\n",
       "      <td>-2.630000e-07</td>\n",
       "      <td>170.307565</td>\n",
       "      <td>0.000115</td>\n",
       "      <td>...</td>\n",
       "      <td>-174</td>\n",
       "      <td>4.564</td>\n",
       "      <td>0.053</td>\n",
       "      <td>-0.168</td>\n",
       "      <td>0.791</td>\n",
       "      <td>0.201</td>\n",
       "      <td>-0.067</td>\n",
       "      <td>285.53461</td>\n",
       "      <td>48.285210</td>\n",
       "      <td>15.597</td>\n",
       "    </tr>\n",
       "    <tr>\n",
       "      <th>3</th>\n",
       "      <td>CONFIRMED</td>\n",
       "      <td>0</td>\n",
       "      <td>0</td>\n",
       "      <td>0</td>\n",
       "      <td>0</td>\n",
       "      <td>2.525592</td>\n",
       "      <td>3.760000e-06</td>\n",
       "      <td>-3.760000e-06</td>\n",
       "      <td>171.595550</td>\n",
       "      <td>0.001130</td>\n",
       "      <td>...</td>\n",
       "      <td>-211</td>\n",
       "      <td>4.438</td>\n",
       "      <td>0.070</td>\n",
       "      <td>-0.210</td>\n",
       "      <td>1.046</td>\n",
       "      <td>0.334</td>\n",
       "      <td>-0.133</td>\n",
       "      <td>288.75488</td>\n",
       "      <td>48.226200</td>\n",
       "      <td>15.509</td>\n",
       "    </tr>\n",
       "    <tr>\n",
       "      <th>4</th>\n",
       "      <td>CONFIRMED</td>\n",
       "      <td>0</td>\n",
       "      <td>0</td>\n",
       "      <td>0</td>\n",
       "      <td>0</td>\n",
       "      <td>4.134435</td>\n",
       "      <td>1.050000e-05</td>\n",
       "      <td>-1.050000e-05</td>\n",
       "      <td>172.979370</td>\n",
       "      <td>0.001900</td>\n",
       "      <td>...</td>\n",
       "      <td>-232</td>\n",
       "      <td>4.486</td>\n",
       "      <td>0.054</td>\n",
       "      <td>-0.229</td>\n",
       "      <td>0.972</td>\n",
       "      <td>0.315</td>\n",
       "      <td>-0.105</td>\n",
       "      <td>296.28613</td>\n",
       "      <td>48.224670</td>\n",
       "      <td>15.714</td>\n",
       "    </tr>\n",
       "  </tbody>\n",
       "</table>\n",
       "<p>5 rows × 41 columns</p>\n",
       "</div>"
      ],
      "text/plain": [
       "  koi_disposition  koi_fpflag_nt  koi_fpflag_ss  koi_fpflag_co  koi_fpflag_ec  \\\n",
       "0       CONFIRMED              0              0              0              0   \n",
       "1  FALSE POSITIVE              0              1              0              0   \n",
       "2  FALSE POSITIVE              0              1              0              0   \n",
       "3       CONFIRMED              0              0              0              0   \n",
       "4       CONFIRMED              0              0              0              0   \n",
       "\n",
       "   koi_period  koi_period_err1  koi_period_err2  koi_time0bk  \\\n",
       "0   54.418383     2.479000e-04    -2.479000e-04   162.513840   \n",
       "1   19.899140     1.490000e-05    -1.490000e-05   175.850252   \n",
       "2    1.736952     2.630000e-07    -2.630000e-07   170.307565   \n",
       "3    2.525592     3.760000e-06    -3.760000e-06   171.595550   \n",
       "4    4.134435     1.050000e-05    -1.050000e-05   172.979370   \n",
       "\n",
       "   koi_time0bk_err1  ...  koi_steff_err2  koi_slogg  koi_slogg_err1  \\\n",
       "0          0.003520  ...             -81      4.467           0.064   \n",
       "1          0.000581  ...            -176      4.544           0.044   \n",
       "2          0.000115  ...            -174      4.564           0.053   \n",
       "3          0.001130  ...            -211      4.438           0.070   \n",
       "4          0.001900  ...            -232      4.486           0.054   \n",
       "\n",
       "   koi_slogg_err2  koi_srad  koi_srad_err1  koi_srad_err2         ra  \\\n",
       "0          -0.096     0.927          0.105         -0.061  291.93423   \n",
       "1          -0.176     0.868          0.233         -0.078  297.00482   \n",
       "2          -0.168     0.791          0.201         -0.067  285.53461   \n",
       "3          -0.210     1.046          0.334         -0.133  288.75488   \n",
       "4          -0.229     0.972          0.315         -0.105  296.28613   \n",
       "\n",
       "         dec  koi_kepmag  \n",
       "0  48.141651      15.347  \n",
       "1  48.134129      15.436  \n",
       "2  48.285210      15.597  \n",
       "3  48.226200      15.509  \n",
       "4  48.224670      15.714  \n",
       "\n",
       "[5 rows x 41 columns]"
      ]
     },
     "execution_count": 4,
     "metadata": {},
     "output_type": "execute_result"
    }
   ],
   "source": [
    "df = pd.read_csv(\"exoplanet_data.csv\")\n",
    "# Drop the null columns where all values are null\n",
    "df = df.dropna(axis='columns', how='all')\n",
    "\n",
    "# Drop the null rows\n",
    "df = df.dropna()\n",
    "\n",
    "#Drop rows where a condidate hasn't been declared confirmed or false\n",
    "df.drop(df[df['koi_disposition'] == 'CANDIDATE'].index, inplace = True)\n",
    "df.head()\n"
   ]
  },
  {
   "cell_type": "markdown",
   "metadata": {},
   "source": [
    "# Select features"
   ]
  },
  {
   "cell_type": "code",
   "execution_count": 5,
   "metadata": {},
   "outputs": [
    {
     "data": {
      "text/plain": [
       "(5304, 20)"
      ]
     },
     "execution_count": 5,
     "metadata": {},
     "output_type": "execute_result"
    }
   ],
   "source": [
    "#set target (y-values)\n",
    "target = df[['koi_disposition']]\n",
    "\n",
    "# Set features (x-values)\n",
    "selected_features = df[['koi_fpflag_nt',\n",
    "                        'koi_fpflag_ss',\n",
    "                        'koi_fpflag_co',\n",
    "                        'koi_fpflag_ec', \n",
    "                        'koi_period',\n",
    "                        'koi_time0bk', \n",
    "                        'koi_impact',\n",
    "                        'koi_duration',\n",
    "                        'koi_depth',\n",
    "                        'koi_prad',\n",
    "                        'koi_teq',\n",
    "                        'koi_insol',\n",
    "                        'koi_model_snr',\n",
    "                        'koi_tce_plnt_num',\n",
    "                        'koi_steff',\n",
    "                        'koi_slogg',\n",
    "                        'koi_srad',\n",
    "                        'ra',\n",
    "                        'dec',\n",
    "                        'koi_kepmag']]\n",
    "\n",
    "selected_features= selected_features.values\n",
    "selected_features.shape"
   ]
  },
  {
   "cell_type": "code",
   "execution_count": 6,
   "metadata": {},
   "outputs": [
    {
     "data": {
      "text/plain": [
       "array(['CONFIRMED', 'FALSE POSITIVE'], dtype=object)"
      ]
     },
     "execution_count": 6,
     "metadata": {},
     "output_type": "execute_result"
    }
   ],
   "source": [
    "## confirming deletion of \"candidate\" rows\n",
    "\n",
    "target_list = target.values\n",
    "np.unique(target_list)\n"
   ]
  },
  {
   "cell_type": "markdown",
   "metadata": {},
   "source": [
    "# Label Encoding"
   ]
  },
  {
   "cell_type": "code",
   "execution_count": 7,
   "metadata": {},
   "outputs": [
    {
     "data": {
      "text/plain": [
       "array([0, 1, 1, ..., 1, 1, 1])"
      ]
     },
     "execution_count": 7,
     "metadata": {},
     "output_type": "execute_result"
    }
   ],
   "source": [
    "#reformat data\n",
    "target = df[['koi_disposition']]\n",
    "y = target.values.reshape(-1,1)\n",
    "y= np.ravel(y)\n",
    "\n",
    "#label encoding\n",
    "label_encoder = LabelEncoder()\n",
    "label_encoder.fit(y)\n",
    "encoded_targets = label_encoder.transform(y)\n",
    "\n",
    "encoded_targets\n"
   ]
  },
  {
   "cell_type": "markdown",
   "metadata": {},
   "source": [
    "# Create a Train Test Split"
   ]
  },
  {
   "cell_type": "code",
   "execution_count": 8,
   "metadata": {},
   "outputs": [
    {
     "data": {
      "text/plain": [
       "array([[  0.      ,   1.      ,   0.      , ..., 288.96494 ,  42.469391,\n",
       "         14.858   ],\n",
       "       [  0.      ,   1.      ,   0.      , ..., 297.67096 ,  41.87598 ,\n",
       "         13.826   ],\n",
       "       [  0.      ,   0.      ,   0.      , ..., 284.86014 ,  39.240551,\n",
       "         13.446   ],\n",
       "       ...,\n",
       "       [  0.      ,   0.      ,   0.      , ..., 296.159   ,  44.56311 ,\n",
       "         15.965   ],\n",
       "       [  0.      ,   0.      ,   1.      , ..., 291.8269  ,  41.7099  ,\n",
       "         15.563   ],\n",
       "       [  0.      ,   1.      ,   0.      , ..., 292.36017 ,  42.38184 ,\n",
       "         15.943   ]])"
      ]
     },
     "execution_count": 8,
     "metadata": {},
     "output_type": "execute_result"
    }
   ],
   "source": [
    "X_train, X_test, y_train, y_test = train_test_split(selected_features, encoded_targets, random_state= 43)\n",
    "X_train\n"
   ]
  },
  {
   "cell_type": "markdown",
   "metadata": {},
   "source": [
    "# One hot encoding"
   ]
  },
  {
   "cell_type": "code",
   "execution_count": 9,
   "metadata": {},
   "outputs": [],
   "source": [
    "one_hot_y_train = to_categorical(y_train)\n",
    "one_hot_y_test = to_categorical(y_test)\n"
   ]
  },
  {
   "cell_type": "markdown",
   "metadata": {},
   "source": [
    "# Pre-processing\n",
    "\n",
    "Scale the data using the MinMaxScaler and perform some feature selection"
   ]
  },
  {
   "cell_type": "code",
   "execution_count": 10,
   "metadata": {},
   "outputs": [],
   "source": [
    "# Scale your data\n",
    "\n",
    "X_scaler = MinMaxScaler().fit(X_train)\n",
    "\n",
    "X_train_scaled = X_scaler.transform(X_train)\n",
    "\n",
    "X_test_scaled = X_scaler.transform(X_test)"
   ]
  },
  {
   "cell_type": "markdown",
   "metadata": {},
   "source": [
    "# Train the Model\n",
    "\n"
   ]
  },
  {
   "cell_type": "code",
   "execution_count": 11,
   "metadata": {},
   "outputs": [],
   "source": [
    "def create_model():\n",
    "    model = Sequential()\n",
    "    model.add(Dense(units = 6, activation = 'relu', input_dim = 20))\n",
    "    model.add(Dense(units = 6, activation = 'relu'))\n",
    "    model.add(Dense(units = 2, activation = 'softmax'))\n",
    "    model.compile(optimizer = 'adam', loss = 'categorical_crossentropy', metrics = ['accuracy'])\n",
    "    return model\n",
    "\n",
    "model = create_model()\n"
   ]
  },
  {
   "cell_type": "code",
   "execution_count": 12,
   "metadata": {},
   "outputs": [
    {
     "name": "stdout",
     "output_type": "stream",
     "text": [
      "Epoch 1/100\n",
      "Epoch 2/100\n",
      "Epoch 3/100\n",
      "Epoch 4/100\n",
      "Epoch 5/100\n",
      "Epoch 6/100\n",
      "Epoch 7/100\n",
      "Epoch 8/100\n",
      "Epoch 9/100\n",
      "Epoch 10/100\n",
      "Epoch 11/100\n",
      "Epoch 12/100\n",
      "Epoch 13/100\n",
      "Epoch 14/100\n",
      "Epoch 15/100\n",
      "Epoch 16/100\n",
      "Epoch 17/100\n",
      "Epoch 18/100\n",
      "Epoch 19/100\n",
      "Epoch 20/100\n",
      "Epoch 21/100\n",
      "Epoch 22/100\n",
      "Epoch 23/100\n",
      "Epoch 24/100\n",
      "Epoch 25/100\n",
      "Epoch 26/100\n",
      "Epoch 27/100\n",
      "Epoch 28/100\n",
      "Epoch 29/100\n",
      "Epoch 30/100\n",
      "Epoch 31/100\n",
      "Epoch 32/100\n",
      "Epoch 33/100\n",
      "Epoch 34/100\n",
      "Epoch 35/100\n",
      "Epoch 36/100\n",
      "Epoch 37/100\n",
      "Epoch 38/100\n",
      "Epoch 39/100\n",
      "Epoch 40/100\n",
      "Epoch 41/100\n",
      "Epoch 42/100\n",
      "Epoch 43/100\n",
      "Epoch 44/100\n",
      "Epoch 45/100\n",
      "Epoch 46/100\n",
      "Epoch 47/100\n",
      "Epoch 48/100\n",
      "Epoch 49/100\n",
      "Epoch 50/100\n",
      "Epoch 51/100\n",
      "Epoch 52/100\n",
      "Epoch 53/100\n",
      "Epoch 54/100\n",
      "Epoch 55/100\n",
      "Epoch 56/100\n",
      "Epoch 57/100\n",
      "Epoch 58/100\n",
      "Epoch 59/100\n",
      "Epoch 60/100\n",
      "Epoch 61/100\n",
      "Epoch 62/100\n",
      "Epoch 63/100\n",
      "Epoch 64/100\n",
      "Epoch 65/100\n",
      "Epoch 66/100\n",
      "Epoch 67/100\n",
      "Epoch 68/100\n",
      "Epoch 69/100\n",
      "Epoch 70/100\n",
      "Epoch 71/100\n",
      "Epoch 72/100\n",
      "Epoch 73/100\n",
      "Epoch 74/100\n",
      "Epoch 75/100\n",
      "Epoch 76/100\n",
      "Epoch 77/100\n",
      "Epoch 78/100\n",
      "Epoch 79/100\n",
      "Epoch 80/100\n",
      "Epoch 81/100\n",
      "Epoch 82/100\n",
      "Epoch 83/100\n",
      "Epoch 84/100\n",
      "Epoch 85/100\n",
      "Epoch 86/100\n",
      "Epoch 87/100\n",
      "Epoch 88/100\n",
      "Epoch 89/100\n",
      "Epoch 90/100\n",
      "Epoch 91/100\n",
      "Epoch 92/100\n",
      "Epoch 93/100\n",
      "Epoch 94/100\n",
      "Epoch 95/100\n",
      "Epoch 96/100\n",
      "Epoch 97/100\n",
      "Epoch 98/100\n",
      "Epoch 99/100\n",
      "Epoch 100/100\n"
     ]
    },
    {
     "data": {
      "text/plain": [
       "<tensorflow.python.keras.callbacks.History at 0x23dc5e89a60>"
      ]
     },
     "execution_count": 12,
     "metadata": {},
     "output_type": "execute_result"
    }
   ],
   "source": [
    "#fit the model\n",
    "model.fit(X_train, one_hot_y_train, epochs = 100, shuffle=True, verbose= 3)"
   ]
  },
  {
   "cell_type": "code",
   "execution_count": 13,
   "metadata": {},
   "outputs": [
    {
     "name": "stdout",
     "output_type": "stream",
     "text": [
      "0.47569361329078674\n",
      "0.6711915731430054\n"
     ]
    }
   ],
   "source": [
    "model_loss, model_accuracy = model.evaluate(X_test_scaled, one_hot_y_test, verbose=3)\n",
    "print(model_loss)\n",
    "print(model_accuracy)"
   ]
  },
  {
   "cell_type": "markdown",
   "metadata": {},
   "source": [
    "# Hyperparameter Tuning using GridSearchCV\n"
   ]
  },
  {
   "cell_type": "code",
   "execution_count": 14,
   "metadata": {},
   "outputs": [],
   "source": [
    "\n",
    "# Create the GridSearchCV model\n",
    "epochs = [10, 20, 100, 250]\n",
    "shuffle = [True,False]\n",
    "\n",
    "model = KerasClassifier(build_fn= create_model, epochs=10, batch_size=32, verbose=0)\n",
    "\n",
    "param_grid = {'epochs':epochs, 'shuffle':shuffle }\n",
    "\n",
    "grid = GridSearchCV(model, param_grid, verbose= 3, scoring='accuracy')\n"
   ]
  },
  {
   "cell_type": "code",
   "execution_count": 15,
   "metadata": {},
   "outputs": [
    {
     "name": "stdout",
     "output_type": "stream",
     "text": [
      "Fitting 5 folds for each of 8 candidates, totalling 40 fits\n",
      "WARNING:tensorflow:From C:\\Users\\dkoge\\anaconda3\\envs\\PythonData38\\lib\\site-packages\\tensorflow\\python\\keras\\wrappers\\scikit_learn.py:241: Sequential.predict_classes (from tensorflow.python.keras.engine.sequential) is deprecated and will be removed after 2021-01-01.\n",
      "Instructions for updating:\n",
      "Please use instead:* `np.argmax(model.predict(x), axis=-1)`,   if your model does multi-class classification   (e.g. if it uses a `softmax` last-layer activation).* `(model.predict(x) > 0.5).astype(\"int32\")`,   if your model does binary classification   (e.g. if it uses a `sigmoid` last-layer activation).\n",
      "[CV 1/5] END ........................epochs=10, shuffle=True; total time=   1.4s\n",
      "[CV 2/5] END ........................epochs=10, shuffle=True; total time=   1.5s\n",
      "[CV 3/5] END ........................epochs=10, shuffle=True; total time=   1.1s\n",
      "[CV 4/5] END ........................epochs=10, shuffle=True; total time=   1.2s\n",
      "[CV 5/5] END ........................epochs=10, shuffle=True; total time=   1.1s\n",
      "[CV 1/5] END .......................epochs=10, shuffle=False; total time=   1.2s\n",
      "[CV 2/5] END .......................epochs=10, shuffle=False; total time=   1.0s\n",
      "[CV 3/5] END .......................epochs=10, shuffle=False; total time=   1.0s\n",
      "[CV 4/5] END .......................epochs=10, shuffle=False; total time=   1.0s\n",
      "[CV 5/5] END .......................epochs=10, shuffle=False; total time=   1.1s\n",
      "[CV 1/5] END ........................epochs=20, shuffle=True; total time=   1.8s\n",
      "[CV 2/5] END ........................epochs=20, shuffle=True; total time=   1.9s\n",
      "[CV 3/5] END ........................epochs=20, shuffle=True; total time=   1.6s\n",
      "[CV 4/5] END ........................epochs=20, shuffle=True; total time=   1.7s\n",
      "[CV 5/5] END ........................epochs=20, shuffle=True; total time=   1.8s\n",
      "[CV 1/5] END .......................epochs=20, shuffle=False; total time=   2.0s\n",
      "[CV 2/5] END .......................epochs=20, shuffle=False; total time=   1.9s\n",
      "[CV 3/5] END .......................epochs=20, shuffle=False; total time=   1.8s\n",
      "[CV 4/5] END .......................epochs=20, shuffle=False; total time=   1.9s\n",
      "[CV 5/5] END .......................epochs=20, shuffle=False; total time=   1.8s\n",
      "[CV 1/5] END .......................epochs=100, shuffle=True; total time=   7.1s\n",
      "[CV 2/5] END .......................epochs=100, shuffle=True; total time=   7.8s\n",
      "[CV 3/5] END .......................epochs=100, shuffle=True; total time=   7.6s\n",
      "[CV 4/5] END .......................epochs=100, shuffle=True; total time=   7.9s\n",
      "[CV 5/5] END .......................epochs=100, shuffle=True; total time=  10.2s\n",
      "[CV 1/5] END ......................epochs=100, shuffle=False; total time=  15.7s\n",
      "[CV 2/5] END ......................epochs=100, shuffle=False; total time=  13.9s\n",
      "[CV 3/5] END ......................epochs=100, shuffle=False; total time=  12.9s\n",
      "[CV 4/5] END ......................epochs=100, shuffle=False; total time=   9.4s\n",
      "[CV 5/5] END ......................epochs=100, shuffle=False; total time=   9.2s\n",
      "[CV 1/5] END .......................epochs=250, shuffle=True; total time=  21.8s\n",
      "[CV 2/5] END .......................epochs=250, shuffle=True; total time=  26.0s\n",
      "[CV 3/5] END .......................epochs=250, shuffle=True; total time=  26.1s\n",
      "[CV 4/5] END .......................epochs=250, shuffle=True; total time=  31.8s\n",
      "[CV 5/5] END .......................epochs=250, shuffle=True; total time=  20.3s\n",
      "[CV 1/5] END ......................epochs=250, shuffle=False; total time=  20.1s\n",
      "[CV 2/5] END ......................epochs=250, shuffle=False; total time=  19.9s\n",
      "[CV 3/5] END ......................epochs=250, shuffle=False; total time=  25.0s\n",
      "[CV 4/5] END ......................epochs=250, shuffle=False; total time=  35.3s\n",
      "[CV 5/5] END ......................epochs=250, shuffle=False; total time=  30.8s\n"
     ]
    },
    {
     "data": {
      "text/plain": [
       "GridSearchCV(estimator=<tensorflow.python.keras.wrappers.scikit_learn.KerasClassifier object at 0x0000023DC750D820>,\n",
       "             param_grid={'epochs': [10, 20, 100, 250],\n",
       "                         'shuffle': [True, False]},\n",
       "             scoring='accuracy', verbose=3)"
      ]
     },
     "execution_count": 15,
     "metadata": {},
     "output_type": "execute_result"
    }
   ],
   "source": [
    "# Train the model with GridSearch\n",
    "grid.fit(X_train_scaled, y_train)"
   ]
  },
  {
   "cell_type": "code",
   "execution_count": 16,
   "metadata": {},
   "outputs": [
    {
     "name": "stdout",
     "output_type": "stream",
     "text": [
      "{'epochs': 250, 'shuffle': True}\n",
      "0.9909512973673398\n"
     ]
    }
   ],
   "source": [
    "print(grid.best_params_)\n",
    "print(grid.best_score_)"
   ]
  },
  {
   "cell_type": "code",
   "execution_count": 18,
   "metadata": {},
   "outputs": [],
   "source": [
    "def create_model():\n",
    "    model = Sequential()\n",
    "    model.add(Dense(units = 6, activation = 'relu', input_dim = 20))\n",
    "    model.add(Dense(units = 6, activation = 'relu'))\n",
    "    model.add(Dense(units = 2, activation = 'softmax'))\n",
    "    model.compile(optimizer = 'adam', loss = 'categorical_crossentropy', metrics = ['accuracy'])\n",
    "    return model\n",
    "\n",
    "model = create_model()"
   ]
  },
  {
   "cell_type": "code",
   "execution_count": 20,
   "metadata": {},
   "outputs": [
    {
     "name": "stdout",
     "output_type": "stream",
     "text": [
      "Epoch 1/250\n",
      "Epoch 2/250\n",
      "Epoch 3/250\n",
      "Epoch 4/250\n",
      "Epoch 5/250\n",
      "Epoch 6/250\n",
      "Epoch 7/250\n",
      "Epoch 8/250\n",
      "Epoch 9/250\n",
      "Epoch 10/250\n",
      "Epoch 11/250\n",
      "Epoch 12/250\n",
      "Epoch 13/250\n",
      "Epoch 14/250\n",
      "Epoch 15/250\n",
      "Epoch 16/250\n",
      "Epoch 17/250\n",
      "Epoch 18/250\n",
      "Epoch 19/250\n",
      "Epoch 20/250\n",
      "Epoch 21/250\n",
      "Epoch 22/250\n",
      "Epoch 23/250\n",
      "Epoch 24/250\n",
      "Epoch 25/250\n",
      "Epoch 26/250\n",
      "Epoch 27/250\n",
      "Epoch 28/250\n",
      "Epoch 29/250\n",
      "Epoch 30/250\n",
      "Epoch 31/250\n",
      "Epoch 32/250\n",
      "Epoch 33/250\n",
      "Epoch 34/250\n",
      "Epoch 35/250\n",
      "Epoch 36/250\n",
      "Epoch 37/250\n",
      "Epoch 38/250\n",
      "Epoch 39/250\n",
      "Epoch 40/250\n",
      "Epoch 41/250\n",
      "Epoch 42/250\n",
      "Epoch 43/250\n",
      "Epoch 44/250\n",
      "Epoch 45/250\n",
      "Epoch 46/250\n",
      "Epoch 47/250\n",
      "Epoch 48/250\n",
      "Epoch 49/250\n",
      "Epoch 50/250\n",
      "Epoch 51/250\n",
      "Epoch 52/250\n",
      "Epoch 53/250\n",
      "Epoch 54/250\n",
      "Epoch 55/250\n",
      "Epoch 56/250\n",
      "Epoch 57/250\n",
      "Epoch 58/250\n",
      "Epoch 59/250\n",
      "Epoch 60/250\n",
      "Epoch 61/250\n",
      "Epoch 62/250\n",
      "Epoch 63/250\n",
      "Epoch 64/250\n",
      "Epoch 65/250\n",
      "Epoch 66/250\n",
      "Epoch 67/250\n",
      "Epoch 68/250\n",
      "Epoch 69/250\n",
      "Epoch 70/250\n",
      "Epoch 71/250\n",
      "Epoch 72/250\n",
      "Epoch 73/250\n",
      "Epoch 74/250\n",
      "Epoch 75/250\n",
      "Epoch 76/250\n",
      "Epoch 77/250\n",
      "Epoch 78/250\n",
      "Epoch 79/250\n",
      "Epoch 80/250\n",
      "Epoch 81/250\n",
      "Epoch 82/250\n",
      "Epoch 83/250\n",
      "Epoch 84/250\n",
      "Epoch 85/250\n",
      "Epoch 86/250\n",
      "Epoch 87/250\n",
      "Epoch 88/250\n",
      "Epoch 89/250\n",
      "Epoch 90/250\n",
      "Epoch 91/250\n",
      "Epoch 92/250\n",
      "Epoch 93/250\n",
      "Epoch 94/250\n",
      "Epoch 95/250\n",
      "Epoch 96/250\n",
      "Epoch 97/250\n",
      "Epoch 98/250\n",
      "Epoch 99/250\n",
      "Epoch 100/250\n",
      "Epoch 101/250\n",
      "Epoch 102/250\n",
      "Epoch 103/250\n",
      "Epoch 104/250\n",
      "Epoch 105/250\n",
      "Epoch 106/250\n",
      "Epoch 107/250\n",
      "Epoch 108/250\n",
      "Epoch 109/250\n",
      "Epoch 110/250\n",
      "Epoch 111/250\n",
      "Epoch 112/250\n",
      "Epoch 113/250\n",
      "Epoch 114/250\n",
      "Epoch 115/250\n",
      "Epoch 116/250\n",
      "Epoch 117/250\n",
      "Epoch 118/250\n",
      "Epoch 119/250\n",
      "Epoch 120/250\n",
      "Epoch 121/250\n",
      "Epoch 122/250\n",
      "Epoch 123/250\n",
      "Epoch 124/250\n",
      "Epoch 125/250\n",
      "Epoch 126/250\n",
      "Epoch 127/250\n",
      "Epoch 128/250\n",
      "Epoch 129/250\n",
      "Epoch 130/250\n",
      "Epoch 131/250\n",
      "Epoch 132/250\n",
      "Epoch 133/250\n",
      "Epoch 134/250\n",
      "Epoch 135/250\n",
      "Epoch 136/250\n",
      "Epoch 137/250\n",
      "Epoch 138/250\n",
      "Epoch 139/250\n",
      "Epoch 140/250\n",
      "Epoch 141/250\n",
      "Epoch 142/250\n",
      "Epoch 143/250\n",
      "Epoch 144/250\n",
      "Epoch 145/250\n",
      "Epoch 146/250\n",
      "Epoch 147/250\n",
      "Epoch 148/250\n",
      "Epoch 149/250\n",
      "Epoch 150/250\n",
      "Epoch 151/250\n",
      "Epoch 152/250\n",
      "Epoch 153/250\n",
      "Epoch 154/250\n",
      "Epoch 155/250\n",
      "Epoch 156/250\n",
      "Epoch 157/250\n",
      "Epoch 158/250\n",
      "Epoch 159/250\n",
      "Epoch 160/250\n",
      "Epoch 161/250\n",
      "Epoch 162/250\n",
      "Epoch 163/250\n",
      "Epoch 164/250\n",
      "Epoch 165/250\n",
      "Epoch 166/250\n",
      "Epoch 167/250\n",
      "Epoch 168/250\n",
      "Epoch 169/250\n",
      "Epoch 170/250\n",
      "Epoch 171/250\n",
      "Epoch 172/250\n",
      "Epoch 173/250\n",
      "Epoch 174/250\n",
      "Epoch 175/250\n",
      "Epoch 176/250\n",
      "Epoch 177/250\n",
      "Epoch 178/250\n",
      "Epoch 179/250\n",
      "Epoch 180/250\n",
      "Epoch 181/250\n",
      "Epoch 182/250\n",
      "Epoch 183/250\n",
      "Epoch 184/250\n",
      "Epoch 185/250\n",
      "Epoch 186/250\n",
      "Epoch 187/250\n",
      "Epoch 188/250\n",
      "Epoch 189/250\n",
      "Epoch 190/250\n",
      "Epoch 191/250\n",
      "Epoch 192/250\n",
      "Epoch 193/250\n",
      "Epoch 194/250\n",
      "Epoch 195/250\n",
      "Epoch 196/250\n",
      "Epoch 197/250\n",
      "Epoch 198/250\n",
      "Epoch 199/250\n",
      "Epoch 200/250\n",
      "Epoch 201/250\n",
      "Epoch 202/250\n",
      "Epoch 203/250\n",
      "Epoch 204/250\n",
      "Epoch 205/250\n",
      "Epoch 206/250\n",
      "Epoch 207/250\n",
      "Epoch 208/250\n",
      "Epoch 209/250\n",
      "Epoch 210/250\n",
      "Epoch 211/250\n",
      "Epoch 212/250\n",
      "Epoch 213/250\n",
      "Epoch 214/250\n",
      "Epoch 215/250\n",
      "Epoch 216/250\n",
      "Epoch 217/250\n",
      "Epoch 218/250\n",
      "Epoch 219/250\n",
      "Epoch 220/250\n",
      "Epoch 221/250\n",
      "Epoch 222/250\n",
      "Epoch 223/250\n",
      "Epoch 224/250\n",
      "Epoch 225/250\n",
      "Epoch 226/250\n",
      "Epoch 227/250\n",
      "Epoch 228/250\n",
      "Epoch 229/250\n",
      "Epoch 230/250\n",
      "Epoch 231/250\n",
      "Epoch 232/250\n",
      "Epoch 233/250\n",
      "Epoch 234/250\n",
      "Epoch 235/250\n",
      "Epoch 236/250\n",
      "Epoch 237/250\n",
      "Epoch 238/250\n",
      "Epoch 239/250\n",
      "Epoch 240/250\n",
      "Epoch 241/250\n",
      "Epoch 242/250\n",
      "Epoch 243/250\n",
      "Epoch 244/250\n",
      "Epoch 245/250\n",
      "Epoch 246/250\n",
      "Epoch 247/250\n",
      "Epoch 248/250\n",
      "Epoch 249/250\n",
      "Epoch 250/250\n"
     ]
    }
   ],
   "source": [
    "#fit the model\n",
    "model.fit(X_train, one_hot_y_train, epochs = 250, shuffle=True, verbose= 3)\n",
    "\n",
    "model_loss, model_accuracy = model.evaluate(X_test_scaled, one_hot_y_test, verbose=3)\n"
   ]
  },
  {
   "cell_type": "code",
   "execution_count": 22,
   "metadata": {},
   "outputs": [
    {
     "name": "stdout",
     "output_type": "stream",
     "text": [
      "0.8943232893943787\n",
      "0.6711915731430054\n"
     ]
    }
   ],
   "source": [
    "print(model_loss)\n",
    "print(model_accuracy)"
   ]
  }
 ],
 "metadata": {
  "kernel_info": {
   "name": "dev"
  },
  "kernelspec": {
   "display_name": "Python 3",
   "language": "python",
   "name": "python3"
  },
  "language_info": {
   "codemirror_mode": {
    "name": "ipython",
    "version": 3
   },
   "file_extension": ".py",
   "mimetype": "text/x-python",
   "name": "python",
   "nbconvert_exporter": "python",
   "pygments_lexer": "ipython3",
   "version": "3.8.8"
  },
  "nteract": {
   "version": "0.12.3"
  }
 },
 "nbformat": 4,
 "nbformat_minor": 2
}
